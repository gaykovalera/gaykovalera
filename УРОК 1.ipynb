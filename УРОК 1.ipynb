{
 "cells": [
  {
   "cell_type": "code",
   "execution_count": 2,
   "id": "19a85e84",
   "metadata": {},
   "outputs": [
    {
     "name": "stdout",
     "output_type": "stream",
     "text": [
      "254\n",
      "254.0\n"
     ]
    }
   ],
   "source": [
    "table = 254\n",
    "print(table)\n",
    "print(float(table))"
   ]
  },
  {
   "cell_type": "code",
   "execution_count": 4,
   "id": "61b86247",
   "metadata": {},
   "outputs": [
    {
     "name": "stdout",
     "output_type": "stream",
     "text": [
      "52\n",
      "1\n"
     ]
    }
   ],
   "source": [
    "a = 365\n",
    "b = 7\n",
    "print(a // b)\n",
    "print(a % b)"
   ]
  },
  {
   "cell_type": "code",
   "execution_count": 5,
   "id": "22257201",
   "metadata": {},
   "outputs": [
    {
     "name": "stdout",
     "output_type": "stream",
     "text": [
      "30.42\n"
     ]
    }
   ],
   "source": [
    "c = 12\n",
    "print(round(a / c, 2))"
   ]
  },
  {
   "cell_type": "code",
   "execution_count": 10,
   "id": "f7f7cfec",
   "metadata": {},
   "outputs": [
    {
     "name": "stdout",
     "output_type": "stream",
     "text": [
      "8760\n",
      "525600\n",
      "31536000\n"
     ]
    }
   ],
   "source": [
    "d = 24\n",
    "print(d * a)\n",
    "print(a * d * 60)\n",
    "print(a * d * 60 * 60)"
   ]
  },
  {
   "cell_type": "code",
   "execution_count": 17,
   "id": "028f8ee9",
   "metadata": {},
   "outputs": [
    {
     "name": "stdout",
     "output_type": "stream",
     "text": [
      "8.06225774829855\n"
     ]
    }
   ],
   "source": [
    "k1 = 4\n",
    "k2 = 7\n",
    "g = (pow(k1, 2) + pow(k2, 2)) ** 0.5\n",
    "print(g)"
   ]
  },
  {
   "cell_type": "code",
   "execution_count": 25,
   "id": "10fc3a66",
   "metadata": {},
   "outputs": [
    {
     "name": "stdout",
     "output_type": "stream",
     "text": [
      "19.06225774829855\n",
      "8.06225774829855 4\n"
     ]
    }
   ],
   "source": [
    "s = k1 + k2 + g\n",
    "print(s)\n",
    "print(max(k1, k2, g), min(k1, k2, g))"
   ]
  },
  {
   "cell_type": "code",
   "execution_count": 41,
   "id": "307ed55f",
   "metadata": {},
   "outputs": [
    {
     "name": "stdout",
     "output_type": "stream",
     "text": [
      "\"\"\" Меня зовут Лера Гайкова и я учу Python!!!\"\"\"\n"
     ]
    }
   ],
   "source": [
    "n = \"Лера\"\n",
    "sn = \"Гайкова\"\n",
    "print('\"\"\" Меня зовут ' + n, sn + ' и я учу Python!!!\"\"\"') \n",
    "\n"
   ]
  },
  {
   "cell_type": "code",
   "execution_count": 42,
   "id": "f9434c83",
   "metadata": {},
   "outputs": [
    {
     "name": "stdout",
     "output_type": "stream",
     "text": [
      "23\n"
     ]
    }
   ],
   "source": [
    "f = \"Карл у Клары украл кораллы, а Клара у Карла украла кларнет. Если бы Карл не крал у Клары кораллы, то Клара у Карла не украла б кларнет\"\n",
    "print(f.count('а'))"
   ]
  },
  {
   "cell_type": "code",
   "execution_count": 44,
   "id": "fde55da2",
   "metadata": {},
   "outputs": [
    {
     "name": "stdout",
     "output_type": "stream",
     "text": [
      "карл у клары украл кораллы, а клара у карла украла кларнет. если бы карл не крал у клары кораллы, то клара у карла не украла б кларнет\n",
      "КАРЛ У КЛАРЫ УКРАЛ КОРАЛЛЫ, А КЛАРА У КАРЛА УКРАЛА КЛАРНЕТ. ЕСЛИ БЫ КАРЛ НЕ КРАЛ У КЛАРЫ КОРАЛЛЫ, ТО КЛАРА У КАРЛА НЕ УКРАЛА Б КЛАРНЕТ\n"
     ]
    }
   ],
   "source": [
    "print(f.lower())\n",
    "print(f.upper())"
   ]
  },
  {
   "cell_type": "code",
   "execution_count": 45,
   "id": "866d85fd",
   "metadata": {},
   "outputs": [
    {
     "name": "stdout",
     "output_type": "stream",
     "text": [
      "Карл у клары украл кораллы, а клара у карла украла кларнет. если бы карл не крал у клары кораллы, то клара у карла не украла б кларнет\n"
     ]
    }
   ],
   "source": [
    "print(f. capitalize())\n"
   ]
  },
  {
   "cell_type": "code",
   "execution_count": 46,
   "id": "56b86379",
   "metadata": {},
   "outputs": [
    {
     "name": "stdout",
     "output_type": "stream",
     "text": [
      "False\n",
      "True\n",
      "False\n"
     ]
    }
   ],
   "source": [
    "print(\"Кларнет\" in f) \n",
    "print(\"кларнет\" in f)\n",
    "print(\"КЛАРНЕТ\" in f)"
   ]
  },
  {
   "cell_type": "code",
   "execution_count": null,
   "id": "b425b8a5",
   "metadata": {},
   "outputs": [],
   "source": []
  }
 ],
 "metadata": {
  "kernelspec": {
   "display_name": "Python 3",
   "language": "python",
   "name": "python3"
  },
  "language_info": {
   "codemirror_mode": {
    "name": "ipython",
    "version": 3
   },
   "file_extension": ".py",
   "mimetype": "text/x-python",
   "name": "python",
   "nbconvert_exporter": "python",
   "pygments_lexer": "ipython3",
   "version": "3.8.8"
  }
 },
 "nbformat": 4,
 "nbformat_minor": 5
}
