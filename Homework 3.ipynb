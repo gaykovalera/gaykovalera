{
 "cells": [
  {
   "cell_type": "code",
   "execution_count": 19,
   "id": "1e05a28c",
   "metadata": {},
   "outputs": [
    {
     "name": "stdout",
     "output_type": "stream",
     "text": [
      "Введите вашу дату рождения в формате день.месяц.год 29.09.1997\n"
     ]
    }
   ],
   "source": [
    "\n"
   ]
  },
  {
   "cell_type": "code",
   "execution_count": 14,
   "id": "48606706",
   "metadata": {},
   "outputs": [
    {
     "name": "stdout",
     "output_type": "stream",
     "text": [
      "Введите вашу дату рождения в формате день.месяц.год 29.09.1997\n",
      "Ваш возраст:23\n",
      "Дней до дня рождения:51\n"
     ]
    }
   ],
   "source": [
    "import datetime \n",
    "Day, Month, Year = input(\"Введите вашу дату рождения в формате день.месяц.год \").split(\".\")\n",
    "Day = int(Day)\n",
    "Month = int(Month)\n",
    "Year = int(Year)\n",
    "birthday = datetime.datetime(Year, Month, Day)\n",
    "today = datetime.datetime.today()\n",
    "def calc_age(birthday):\n",
    "    return today.year - birthday.year - ((today.month, today.day) < (birthday.month, birthday.day))\n",
    "def calc_days(birthday, today):\n",
    "    if today.month <= birthday.month and today.day <= birthday.day:\n",
    "        delta1 = datetime.datetime(today.year, birthday.month, birthday.day)\n",
    "        days = (delta1 - today).days\n",
    "        return days\n",
    "    else:\n",
    "        delta2 = datetime.datetime(today.year+1, birthday.month, birthday.day)\n",
    "        days = (delta2 - today).days\n",
    "        return days\n",
    "delta = calc_age(birthday)\n",
    "delta_2 = calc_days(birthday,today)\n",
    "print(f\"Ваш возраст:{delta}\")\n",
    "print(f\"Дней до дня рождения:{delta_2}\")\n",
    "\n",
    "\n",
    "    \n",
    "    \n",
    "\n",
    "\n",
    "    \n",
    "\n",
    "\n",
    "\n",
    "\n"
   ]
  },
  {
   "cell_type": "code",
   "execution_count": 38,
   "id": "52d5c1e9",
   "metadata": {},
   "outputs": [
    {
     "name": "stdout",
     "output_type": "stream",
     "text": [
      "Загадано случайное число, У вас будет 3 попытки, чтобы его угадать вы\\\n",
      "Попытка № 1:\n",
      "Нужно ввести число, а вы\\ - не число\n",
      "Загадано случайное число, У вас будет 3 попытки, чтобы его угадать 3\n",
      "Попытка № 2:\n",
      "Вы не угадали!\n",
      "Загадано случайное число, У вас будет 3 попытки, чтобы его угадать 8\n",
      "Попытка № 3:\n",
      "Вы не угадали!\n",
      "было загадано число: 7\n"
     ]
    }
   ],
   "source": [
    "import random\n",
    "a = random.randint(1,10)\n",
    "for t in range(1, 10):\n",
    "    guess = input('Загадано случайное число, У вас будет 3 попытки, чтобы его угадать ')\n",
    "    print(f'Попытка № {t}:')\n",
    "    if guess == a:\n",
    "        print(f'Ура, вы угадали! Это была цифра: {guess}')\n",
    "        break\n",
    "    if guess.isdigit() == False:\n",
    "        print(f'Нужно ввести число, а {guess} - не число')  \n",
    "    elif guess != a:\n",
    "        print(f'Вы не угадали!')\n",
    "    if t == 3:\n",
    "        print(f'было загадано число: {a}')\n",
    "        break\n",
    "        \n",
    "    \n",
    "\n"
   ]
  },
  {
   "cell_type": "code",
   "execution_count": 7,
   "id": "f8cc828f",
   "metadata": {},
   "outputs": [
    {
     "name": "stdout",
     "output_type": "stream",
     "text": [
      "{2021}\n"
     ]
    }
   ],
   "source": []
  },
  {
   "cell_type": "code",
   "execution_count": 32,
   "id": "964d74b4",
   "metadata": {},
   "outputs": [
    {
     "name": "stdout",
     "output_type": "stream",
     "text": [
      "24\n"
     ]
    }
   ],
   "source": [
    "\n"
   ]
  },
  {
   "cell_type": "code",
   "execution_count": null,
   "id": "bc8d0a11",
   "metadata": {},
   "outputs": [],
   "source": []
  }
 ],
 "metadata": {
  "kernelspec": {
   "display_name": "Python 3",
   "language": "python",
   "name": "python3"
  },
  "language_info": {
   "codemirror_mode": {
    "name": "ipython",
    "version": 3
   },
   "file_extension": ".py",
   "mimetype": "text/x-python",
   "name": "python",
   "nbconvert_exporter": "python",
   "pygments_lexer": "ipython3",
   "version": "3.8.8"
  }
 },
 "nbformat": 4,
 "nbformat_minor": 5
}
